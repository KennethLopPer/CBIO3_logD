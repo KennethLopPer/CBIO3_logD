{
 "cells": [
  {
   "cell_type": "code",
   "execution_count": 1,
   "id": "6045f19d",
   "metadata": {},
   "outputs": [],
   "source": [
    "import pandas as pd\n",
    "import numpy as np\n",
    "import rdkit\n",
    "import pickle\n",
    "from rdkit import Chem\n",
    "from rdkit.Chem import rdmolops\n",
    "from rdkit.Chem import Fragments\n",
    "from rdkit.Chem import Draw\n",
    "from rdkit.Chem import PandasTools\n",
    "from Descriptors_logPN import *\n",
    "from Descriptors_logPI import *\n",
    "from Descriptors_pKa import *"
   ]
  },
  {
   "cell_type": "code",
   "execution_count": 9,
   "id": "a8abb4b5",
   "metadata": {},
   "outputs": [],
   "source": [
    "def logD_pH(logPN, logPI, pKa, Tipo, pH, printing):\n",
    "    PN = pow(10, logPN)\n",
    "    PI = pow(10, logPI)\n",
    "    if Tipo == 'acid':\n",
    "        delta = float(pH) - float(pKa)\n",
    "    elif Tipo == 'basic':\n",
    "        delta = float(pKa) - float(pH)\n",
    "    logD = np.log10(PN + PI * pow(10, delta)) - np.log10(1 + pow(10, delta))\n",
    "    logD_ = logPN - np.log10(1 + pow(10, delta))\n",
    "    \n",
    "    if printing == True:\n",
    "        print('-------------------------')\n",
    "        print('Taking into consideration logPI')\n",
    "        print('logD at pH ', pH, ' = ', round(logD, 2))\n",
    "        print('-------------------------')\n",
    "        print('Not taking into consideration logPI')\n",
    "        print('logD at pH ', pH, ' = ', round(logD_, 2))\n",
    "        print('-------------------------')\n",
    "    \n",
    "    return logD, logD_"
   ]
  },
  {
   "cell_type": "code",
   "execution_count": 3,
   "id": "53815780",
   "metadata": {},
   "outputs": [],
   "source": [
    "def logPN(mol):\n",
    "    dataframe = conteo_descr(mol)\n",
    "    train = pd.read_csv('train_logPN.csv')\n",
    "    train = train.drop(['NAME', 'DATABASE_ID', 'SMILES','logP'], axis = 1)\n",
    "    dataframe = dataframe[train.columns]\n",
    "    \n",
    "    XGB = pickle.load(open('XGB_logPN.sav', 'rb'))\n",
    " \n",
    "    return XGB.predict(dataframe)"
   ]
  },
  {
   "cell_type": "code",
   "execution_count": 4,
   "id": "81c2a252",
   "metadata": {},
   "outputs": [],
   "source": [
    "def logPI(mol1, mol2):\n",
    "    dataframe = conteo_descr_(mol1, mol2)\n",
    "    train = pd.read_csv('train_logPI.csv')\n",
    "    train = train.drop(['NAME', 'DATABASE_ID', 'SMILES', 'SMILES_cargado', 'logPN', 'logPI', 'Delta'], axis = 1)\n",
    "    dataframe = dataframe[train.columns]\n",
    "    \n",
    "    f2 = dataframe\n",
    "    f2['Delta_MR'] = f2['MR'] - f2['MR_carg']\n",
    "    f2['Delta_PSA'] = f2['PSA'] - f2['PSA_carg']\n",
    "    E2 = f2.drop(['MR', 'MR_carg', 'PSA', 'PSA_carg'], axis = 1)\n",
    "    \n",
    "    RF = pickle.load(open('RF_logPI.sav', 'rb'))\n",
    "    \n",
    "    return RF.predict(E2)"
   ]
  },
  {
   "cell_type": "code",
   "execution_count": 5,
   "id": "675adcad",
   "metadata": {},
   "outputs": [],
   "source": [
    "def pKa(mol1, mol2, Type):\n",
    "    dataframe = descriptor(mol1, mol2, Type)\n",
    "    \n",
    "    XGB = pickle.load(open('XGB_pKa.sav', 'rb'))\n",
    "    return XGB.predict(dataframe)"
   ]
  },
  {
   "cell_type": "code",
   "execution_count": 6,
   "id": "e5f321d8",
   "metadata": {},
   "outputs": [],
   "source": [
    "def SMILES_to_logD(Image):\n",
    "    SMI1 = input('Enter the SMILES string of your neutral molecule: ')\n",
    "    SMI2 = input('Enter the SMILES string of your charged molecule: ')\n",
    "    \n",
    "    mol1 = Chem.MolFromSmiles(SMI1)\n",
    "    mol2 = Chem.MolFromSmiles(SMI2)\n",
    "    \n",
    "    carga1 = Chem.rdmolops.GetFormalCharge(mol1)\n",
    "    carga2 = Chem.rdmolops.GetFormalCharge(mol2)\n",
    "    \n",
    "    if carga1 == 0 and carga2 == 1:\n",
    "        Tipo = 'basic'\n",
    "    elif carga1 == 0 and carga2 == -1:\n",
    "        Tipo = 'acid'\n",
    "    else: \n",
    "        print('Review the SMILES strings order, remember this program only supports monobasic and monoprotic compounds')\n",
    "        return\n",
    "    \n",
    "    logPN_ = logPN(mol1)\n",
    "    logPI_ = logPN_ - logPI(mol1, mol2)\n",
    "    \n",
    "    if Tipo == 'acid':\n",
    "        pKa_ = pKa(mol2, mol1, Tipo)\n",
    "    elif Tipo == 'basic':\n",
    "        pKa_ = pKa(mol1, mol2, Tipo)\n",
    "     \n",
    "    \n",
    "    pH = input('Enter the pH you want to predict your logD: ')\n",
    "    \n",
    "  \n",
    "    if Image == True:\n",
    "        print('--------------------------------------------------------')\n",
    "        print('The molecule is:', Tipo)\n",
    "        print('logPN:', round(logPN_[0], 2))\n",
    "        print('logPI:', round(logPI_[0], 2))\n",
    "        print('pKa:', round(pKa_[0], 2))\n",
    "        logD1, logD2 = logD_pH(logPN_[0], logPI_[0], pKa_[0], Tipo, pH, printing = True)\n",
    "        return Draw.MolsToGridImage((mol1, mol2), returnPNG = False, molsPerRow = 2)\n",
    "    else:\n",
    "        logD1, logD2 = logD_pH(logPN_[0], logPI_[0], pKa_[0], Tipo, pH, printing = False)        \n",
    "        return np.array([logPN_[0], logPI_[0], pKa_[0], logD1, logD2])"
   ]
  },
  {
   "cell_type": "code",
   "execution_count": 7,
   "id": "616da608",
   "metadata": {},
   "outputs": [],
   "source": [
    "def File_logD(filename):\n",
    "    file = pd.read_csv(filename)\n",
    "    total = []\n",
    "    \n",
    "    logPN_db = pd.read_csv('train_logPN.csv')\n",
    "    logPI_db = pd.read_csv('train_logPI.csv')\n",
    "    pKa_db = pd.read_csv('train_pKa.csv')\n",
    "    \n",
    "    SMILES_logPN = logPN_db['SMILES']\n",
    "    SMILES_logPI = logPI_db['SMILES']\n",
    "    SMILES_pKa = pKa_db['SMILES_1']\n",
    "    SMILES_pKa = SMILES_pKa.append(pKa_db['SMILES_2'])\n",
    "    \n",
    "    new_SMILES_logPN = []\n",
    "    for x in SMILES_logPN:\n",
    "        mol = Chem.MolFromSmiles(x)\n",
    "        new_SMILES_logPN.append(Chem.MolToSmiles(mol))\n",
    "        \n",
    "    new_SMILES_logPI = []\n",
    "    for x in SMILES_logPI:\n",
    "        mol = Chem.MolFromSmiles(x)\n",
    "        new_SMILES_logPI.append(Chem.MolToSmiles(mol))\n",
    "    \n",
    "    new_SMILES_pKa = []\n",
    "    for x in SMILES_pKa:\n",
    "        mol = Chem.MolFromSmiles(x)\n",
    "        new_SMILES_pKa.append(Chem.MolToSmiles(mol))\n",
    "    \n",
    "    for i in range(len(file)):\n",
    "        SMI1 = file.loc[i, 'SMILES_neu']\n",
    "        SMI2 = file.loc[i, 'SMILES_carg']\n",
    "        \n",
    "        mol1 = Chem.MolFromSmiles(SMI1)\n",
    "        mol2 = Chem.MolFromSmiles(SMI2)\n",
    "        \n",
    "        SMI1 = Chem.MolToSmiles(mol1)\n",
    "        SMI2 = Chem.MolToSmiles(mol2)\n",
    "        \n",
    "        bool1 = SMI1 in new_SMILES_logPN\n",
    "        bool2 = SMI1 in new_SMILES_logPI\n",
    "        bool3 = SMI1 in new_SMILES_pKa or SMI2 in new_SMILES_pKa\n",
    "            \n",
    "        carga1 = Chem.rdmolops.GetFormalCharge(mol1)\n",
    "        carga2 = Chem.rdmolops.GetFormalCharge(mol2)\n",
    "    \n",
    "        if carga1 == 0 and carga2 == 1:\n",
    "            Tipo = 'basic'\n",
    "        elif carga1 == 0 and carga2 == -1:\n",
    "            Tipo = 'acid'\n",
    "        else: \n",
    "            print('Review the SMILES strings order, remember this program only supports monobasic and monoprotic compounds')\n",
    "            return\n",
    "    \n",
    "        logPN_ = logPN(mol1)\n",
    "        logPI_ = logPN_ - logPI(mol1, mol2)\n",
    "    \n",
    "        if Tipo == 'acid':\n",
    "            pKa_ = pKa(mol2, mol1, Tipo)\n",
    "        elif Tipo == 'basic':\n",
    "            pKa_ = pKa(mol1, mol2, Tipo)\n",
    "     \n",
    "    \n",
    "        pH = file.loc[i, 'pH']\n",
    "        \n",
    "        logD1, logD2 = logD_pH(logPN_[0], logPI_[0], pKa_[0], Tipo, pH, printing = False)\n",
    "        \n",
    "        obs = np.array([logPN_[0], logPI_[0], pKa_[0], logD1, logD2, bool1, bool2, bool3])\n",
    "        \n",
    "        total.append(obs)\n",
    "    \n",
    "    total_ = pd.DataFrame(total, columns = ['logPN', 'logPI', 'pKa', 'logD1', 'logD2', 'train_logPN', 'train_logPI', 'train_pKa'])\n",
    "    \n",
    "    name = filename.split('.')\n",
    "    name = name[0]\n",
    "    \n",
    "    df = pd.concat([file, total_], axis = 1)\n",
    "    \n",
    "    new_file = name + '_logD_pred.csv'\n",
    "    \n",
    "    df.to_csv(new_file, index = False)\n",
    "   \n",
    "    return df"
   ]
  },
  {
   "cell_type": "code",
   "execution_count": 10,
   "id": "5b14806f",
   "metadata": {},
   "outputs": [
    {
     "name": "stdout",
     "output_type": "stream",
     "text": [
      "Enter the SMILES string of your neutral molecule: CC(=O)O\n",
      "Enter the SMILES string of your charged molecule: CC(=O)[O-]\n",
      "Enter the pH you want to predict your logD: 3\n",
      "--------------------------------------------------------\n",
      "The molecule is: acid\n",
      "logPN: -0.27\n",
      "logPI: -3.95\n",
      "pKa: 5.2\n",
      "-------------------------\n",
      "Taking into consideration logPI\n",
      "logD at pH  3  =  -0.27\n",
      "-------------------------\n",
      "Not taking into consideration logPI\n",
      "logD at pH  3  =  -0.27\n",
      "-------------------------\n"
     ]
    },
    {
     "data": {
      "image/png": "[encoded data removed]",
      "text/plain": [
       "<PIL.PngImagePlugin.PngImageFile image mode=RGB size=400x200 at 0x27F36BCEC70>"
      ]
     },
     "execution_count": 10,
     "metadata": {},
     "output_type": "execute_result"
    }
   ],
   "source": [
    "#### Function SMILES_to_logD((Boolean)Image)\n",
    "# Boolean parameter. If True it prints the predicted values and renders images of the molecule structure in its neutral and\n",
    "# ionized form.If False it returns an array of floats with the predicted logPN, logPI, pKa, logD considering ionic partition,\n",
    "# and log D without considering ionic partition. \n",
    "\n",
    "# Functions akss user to enter SMILES string of the neutral species, SMILES string of the ionic form and pH. \n",
    "# If an invalid SMILES is entered or not in the required order returns error.\n",
    "\n",
    "# Try Neutral Molecule: CC(=O)O\n",
    "# Try Charged Molecule: CC(=O)[O-]\n",
    "# Try pH of interest\n",
    "# Image = True\n",
    "\n",
    "SMILES_to_logD(True)"
   ]
  },
  {
   "cell_type": "code",
   "execution_count": 12,
   "id": "20271ac3",
   "metadata": {},
   "outputs": [
    {
     "name": "stdout",
     "output_type": "stream",
     "text": [
      "Enter the SMILES string of your neutral molecule: CN(C)CCCN1C2=CC=CC=C2SC3=C1C=C(C=C3)Cl\n",
      "Enter the SMILES string of your charged molecule: C[NH+](C)CCCN1C2=CC=CC=C2SC3=C1C=C(C=C3)Cl\n",
      "Enter the pH you want to predict your logD: 5\n"
     ]
    },
    {
     "data": {
      "text/plain": [
       "array([4.92585278, 1.71205278, 9.27370262, 1.74830549, 0.65212703])"
      ]
     },
     "execution_count": 12,
     "metadata": {},
     "output_type": "execute_result"
    }
   ],
   "source": [
    "# Try Neutral: CN(C)CCCN1C2=CC=CC=C2SC3=C1C=C(C=C3)Cl\n",
    "# Try Ionic: C[NH+](C)CCCN1C2=CC=CC=C2SC3=C1C=C(C=C3)Cl\n",
    "# TRy pH of interest\n",
    "\n",
    "predictions = SMILES_to_logD(False)\n",
    "predictions"
   ]
  },
  {
   "cell_type": "code",
   "execution_count": 8,
   "id": "9d33553e",
   "metadata": {},
   "outputs": [],
   "source": [
    "#### Function File_logD((string)filename)\n",
    "# File must be a csv with a column name 'SMILES_neu', 'SMILES_carg' and 'pH'\n",
    "# Function returns a file with the same name plus logD_pred\n",
    "\n",
    "# Try and look at the file included in the git 'test.csv'\n",
    "\n",
    "a = File_logD('test.csv')"
   ]
  }
 ],
 "metadata": {
  "kernelspec": {
   "display_name": "Python 3",
   "language": "python",
   "name": "python3"
  },
  "language_info": {
   "codemirror_mode": {
    "name": "ipython",
    "version": 3
   },
   "file_extension": ".py",
   "mimetype": "text/x-python",
   "name": "python",
   "nbconvert_exporter": "python",
   "pygments_lexer": "ipython3",
   "version": "3.9.2"
  }
 },
 "nbformat": 4,
 "nbformat_minor": 5
}
